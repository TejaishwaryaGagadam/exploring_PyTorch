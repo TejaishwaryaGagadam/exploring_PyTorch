{
 "cells": [
  {
   "cell_type": "code",
   "execution_count": 185,
   "metadata": {
    "colab": {},
    "colab_type": "code",
    "id": "n1rRYMF_okBY"
   },
   "outputs": [],
   "source": [
    "# Import dependencies\n",
    "import torch\n",
    "import torch.nn as nn\n",
    "from plot_lib import set_default, show_scatterplot, plot_bases\n",
    "import matplotlib.pyplot as plt\n",
    "import random\n",
    "import numpy as np"
   ]
  },
  {
   "cell_type": "code",
   "execution_count": 186,
   "metadata": {
    "colab": {},
    "colab_type": "code",
    "id": "YkaTWgU3okBc"
   },
   "outputs": [],
   "source": [
    "# Set up your device \n",
    "cuda = torch.cuda.is_available()\n",
    "device = torch.device(\"cuda:0\" if cuda else \"cpu\")"
   ]
  },
  {
   "cell_type": "code",
   "execution_count": 187,
   "metadata": {
    "colab": {},
    "colab_type": "code",
    "id": "_zcS-H-mokBe"
   },
   "outputs": [],
   "source": [
    "# Set up random seed to 1008. Do not change the random seed.\n",
    "# Yes, these are all necessary when you run experiments!\n",
    "seed = 1008\n",
    "random.seed(seed)\n",
    "np.random.seed(seed)\n",
    "torch.manual_seed(seed)\n",
    "if cuda:\n",
    "    torch.cuda.manual_seed(seed)\n",
    "    torch.cuda.manual_seed_all(seed)\n",
    "    torch.backends.cudnn.benchmark = False\n",
    "    torch.backends.cudnn.deterministic = True"
   ]
  },
  {
   "cell_type": "code",
   "execution_count": 188,
   "metadata": {
    "colab": {},
    "colab_type": "code",
    "id": "64jNfD5UokBh"
   },
   "outputs": [],
   "source": [
    "# Define data generating functions\n",
    "def quadratic_data_generator(data_size):\n",
    "    # f(x) = y = x^2 + 4x - 3\n",
    "    # generate an input tensor of size data_size with torch.randn\n",
    "    x = torch.randn(data_size, 1) - 2   \n",
    "    x = x.to(device)\n",
    "    # TODO\n",
    "\n",
    "    y = x**2 + 4*x - 3\n",
    "    # placeholder\n",
    "    #y = torch.ones(data_size,1)\n",
    "    return x,y\n",
    "\n",
    "def cubic_data_generator(data_size=100):\n",
    "    # f(x) = y = x^3 + 4x^2 - 3\n",
    "    # generate an input tensor of size data_size with torch.randn\n",
    "    x = torch.randn(data_size, 1) - 2   \n",
    "    x = x.to(device)\n",
    "    # TODO\n",
    "   \n",
    "    y = x**3 + 4*(x**2) - 3\n",
    "    \n",
    "    # placeholder\n",
    "    #y = torch.ones(data_size,1)\n",
    "    return x, y"
   ]
  },
  {
   "cell_type": "code",
   "execution_count": 189,
   "metadata": {
    "colab": {},
    "colab_type": "code",
    "id": "_zcCkt40okBj"
   },
   "outputs": [
    {
     "data": {
      "image/png": "[encoded data removed]",
      "text/plain": [
       "<Figure size 432x288 with 1 Axes>"
      ]
     },
     "metadata": {
      "needs_background": "light"
     },
     "output_type": "display_data"
    }
   ],
   "source": [
    "# Generate the data with 128 datapoints\n",
    "x, y = quadratic_data_generator(128)\n",
    "plt.scatter(x,y, label = 'Generated data')\n",
    "plt.legend()\n",
    "plt.show()"
   ]
  },
  {
   "cell_type": "code",
   "execution_count": 190,
   "metadata": {},
   "outputs": [
    {
     "name": "stdout",
     "output_type": "stream",
     "text": [
      "x: (128, 1)\n",
      "y: (128, 1)\n"
     ]
    }
   ],
   "source": [
    "# Data shapes\n",
    "\n",
    "print('x:', tuple(x.shape))\n",
    "print('y:',tuple(y.shape))\n"
   ]
  },
  {
   "cell_type": "code",
   "execution_count": 191,
   "metadata": {
    "colab": {},
    "colab_type": "code",
    "id": "rn1TqPoHokBt"
   },
   "outputs": [],
   "source": [
    "# Define a Linear Classifier with a single linear layer and no non-linearity\n",
    "# (no hidden layer)\n",
    "class Linear_0H(nn.Module):\n",
    "    def __init__(self, n_feature, n_output):\n",
    "        super(Linear_0H, self).__init__()\n",
    "\n",
    "        # TODO\n",
    "        self.classifier = nn.Sequential(\n",
    "             nn.Linear(n_feature, n_output),\n",
    "             )\n",
    "        \n",
    "    def forward(self, x):\n",
    "        return self.classifier(x)"
   ]
  },
  {
   "cell_type": "code",
   "execution_count": 192,
   "metadata": {
    "colab": {},
    "colab_type": "code",
    "id": "In6FSCPzokBv"
   },
   "outputs": [],
   "source": [
    "# Define a Linear Classifier with a single hidden layer of size 5 and ReLU non-linearity\n",
    "class Linear_1H(nn.Module):\n",
    "    def __init__(self, n_feature, n_hidden, n_output):\n",
    "        super(Linear_1H, self).__init__()\n",
    "\n",
    "        # TODO\n",
    "        self.classifier = nn.Sequential(\n",
    "              nn.Linear(n_feature, n_hidden),\n",
    "              nn.ReLU(),\n",
    "              nn.Linear(n_hidden, n_output),\n",
    "              )\n",
    "\n",
    "    def forward(self, x):\n",
    "        return self.classifier(x)"
   ]
  },
  {
   "cell_type": "code",
   "execution_count": 193,
   "metadata": {
    "colab": {},
    "colab_type": "code",
    "id": "pzRNs4M1okBx"
   },
   "outputs": [],
   "source": [
    "# Define a Linear Classifier with a two hidden layers of size 5 and ReLU non-linearity\n",
    "class Linear_2H(nn.Module):\n",
    "    def __init__(self, n_feature, n_hidden, n_output):\n",
    "        super(Linear_2H, self).__init__()\n",
    "\n",
    "        # TODO\n",
    "        self.classifier = nn.Sequential(\n",
    "            nn.Linear(n_feature, n_hidden), \n",
    "            nn.ReLU(), \n",
    "            nn.Linear(n_hidden,n_hidden), \n",
    "            nn.ReLU(), \n",
    "            nn.Linear(n_hidden, n_output), \n",
    "            )\n",
    "\n",
    "    def forward(self, x):\n",
    "        return self.classifier(x)"
   ]
  },
  {
   "cell_type": "code",
   "execution_count": 194,
   "metadata": {
    "colab": {},
    "colab_type": "code",
    "id": "M_vRsu4BokBz"
   },
   "outputs": [],
   "source": [
    "'''\n",
    "TODO: Training function\n",
    "\n",
    "Hint: look at some example pytorch tutorials to learn how to\n",
    "    - initialize optimizers\n",
    "    - zero gradient\n",
    "    - backprop the loss\n",
    "    - step the gradient\n",
    "\n",
    "\n",
    "Note: This is full batch. We compute forward on whole x,y.\n",
    "No need for dataloaders nor loop over batches. \n",
    "Just pass all of x to model's forward pass.\n",
    "'''\n",
    "def train(model, epochs, x, y):\n",
    "    \n",
    "    # Set model to training mode\n",
    "    model.train()\n",
    "    \n",
    "    # Define MSE loss function\n",
    "    criterion = torch.nn.MSELoss()\n",
    "    \n",
    "    # TODO: Define the SGD optimizer with learning rate 0.01\n",
    "    optimizer = torch.optim.SGD(model.parameters(),lr = 0.01)\n",
    "    \n",
    "    for epoch in range(epochs):\n",
    "        \n",
    "        # TODO: Forward data through model to predict y\n",
    "        y_pred = model(x)\n",
    "        \n",
    "        # TODO: Compute loss in terms of predicted and true y\n",
    "        loss = criterion(y_pred, y)\n",
    "\n",
    "\n",
    "        # TODO: Zero gradient\n",
    "        optimizer.zero_grad()\n",
    "        \n",
    "        # TODO: call backward on loss\n",
    "        loss.backward()\n",
    "        \n",
    "        # TODO: step the optimizer\n",
    "        optimizer.step()\n",
    "        \n",
    "        # every 100 epochs, print\n",
    "        if (epoch+1) % 100 == 0:\n",
    "            print('Epoch {} loss: {}'.format(epoch+1, loss.item()))\n",
    "            \n",
    "    # return y_pred without gradient information, for plotting\n",
    "    return y_pred.detach()"
   ]
  },
  {
   "cell_type": "code",
   "execution_count": 195,
   "metadata": {
    "colab": {},
    "colab_type": "code",
    "id": "lx_EMETookB1",
    "outputId": "91eb5402-4009-437b-a601-ff6b73dcd5d7"
   },
   "outputs": [
    {
     "name": "stdout",
     "output_type": "stream",
     "text": [
      "Epoch 100 loss: 3.3711135387420654\n",
      "Epoch 200 loss: 2.377268075942993\n",
      "Epoch 300 loss: 1.8444777727127075\n",
      "Epoch 400 loss: 1.5588537454605103\n",
      "Epoch 500 loss: 1.4057323932647705\n",
      "Epoch 600 loss: 1.3236454725265503\n",
      "Epoch 700 loss: 1.2796398401260376\n",
      "Epoch 800 loss: 1.2560487985610962\n",
      "Epoch 900 loss: 1.2434018850326538\n",
      "Epoch 1000 loss: 1.2366219758987427\n"
     ]
    },
    {
     "data": {
      "image/png": "[encoded data removed]",
      "text/plain": [
       "<Figure size 432x288 with 1 Axes>"
      ]
     },
     "metadata": {
      "needs_background": "light"
     },
     "output_type": "display_data"
    }
   ],
   "source": [
    "# 0H model on quadratic data\n",
    "model = Linear_0H(n_feature = 1, n_output = 1)\n",
    "y_pred = train(model, epochs=1000, x=x, y=y)\n",
    "\n",
    "# Plot predictions vs actual data\n",
    "plt.scatter(x, y, label = 'True data')\n",
    "plt.scatter(x, y_pred, label = 'Predicted data')\n",
    "plt.legend()\n",
    "plt.show()"
   ]
  },
  {
   "cell_type": "code",
   "execution_count": 196,
   "metadata": {
    "colab": {},
    "colab_type": "code",
    "id": "m6HIEi6fokB-",
    "outputId": "74b3a7ef-1cc1-4629-e6ec-fb0594a1cb98"
   },
   "outputs": [
    {
     "name": "stdout",
     "output_type": "stream",
     "text": [
      "Epoch 100 loss: 1.8421376943588257\n",
      "Epoch 200 loss: 0.8967394828796387\n",
      "Epoch 300 loss: 0.6937336921691895\n",
      "Epoch 400 loss: 0.5439189076423645\n",
      "Epoch 500 loss: 0.4211842119693756\n",
      "Epoch 600 loss: 0.3246660828590393\n",
      "Epoch 700 loss: 0.2539371848106384\n",
      "Epoch 800 loss: 0.20531226694583893\n",
      "Epoch 900 loss: 0.1738778054714203\n",
      "Epoch 1000 loss: 0.15422357618808746\n"
     ]
    },
    {
     "data": {
      "image/png": "[encoded data removed]",
      "text/plain": [
       "<Figure size 432x288 with 1 Axes>"
      ]
     },
     "metadata": {
      "needs_background": "light"
     },
     "output_type": "display_data"
    }
   ],
   "source": [
    "# 1H model on quadratic data\n",
    "model = Linear_1H(n_feature = 1, n_hidden = 5, n_output = 1)\n",
    "y_pred = train(model, epochs=1000, x=x, y=y)\n",
    "plt.scatter(x, y, label = 'True data')\n",
    "plt.scatter(x, y_pred, label = 'Predicted data')\n",
    "plt.legend()\n",
    "plt.show()"
   ]
  },
  {
   "cell_type": "code",
   "execution_count": 197,
   "metadata": {
    "colab": {},
    "colab_type": "code",
    "id": "_j-_jgS2okCC",
    "outputId": "9319d725-cb7c-4c39-f3fe-d80e1577e150"
   },
   "outputs": [
    {
     "name": "stdout",
     "output_type": "stream",
     "text": [
      "Epoch 100 loss: 0.8756207227706909\n",
      "Epoch 200 loss: 0.49807995557785034\n",
      "Epoch 300 loss: 0.25652849674224854\n",
      "Epoch 400 loss: 0.531870424747467\n",
      "Epoch 500 loss: 0.3199211359024048\n",
      "Epoch 600 loss: 0.18399274349212646\n",
      "Epoch 700 loss: 0.10868291556835175\n",
      "Epoch 800 loss: 0.07716342806816101\n",
      "Epoch 900 loss: 0.052290529012680054\n",
      "Epoch 1000 loss: 0.05097201466560364\n"
     ]
    },
    {
     "data": {
      "image/png": "[encoded data removed]",
      "text/plain": [
       "<Figure size 432x288 with 1 Axes>"
      ]
     },
     "metadata": {
      "needs_background": "light"
     },
     "output_type": "display_data"
    }
   ],
   "source": [
    "# 2H model on quadratic data\n",
    "model = Linear_2H(n_feature = 1, n_hidden = 5, n_output = 1)\n",
    "y_pred = train(model, epochs=1000, x=x, y=y)\n",
    "plt.scatter(x, y, label = 'True data')\n",
    "plt.scatter(x, y_pred, label = 'Predicted data')\n",
    "plt.legend()\n",
    "plt.show()"
   ]
  },
  {
   "cell_type": "code",
   "execution_count": 198,
   "metadata": {
    "colab": {},
    "colab_type": "code",
    "id": "e6P6Ta2ookCF"
   },
   "outputs": [],
   "source": [
    "# Generate cubic data with 128 data points\n",
    "x, y = cubic_data_generator(128)"
   ]
  },
  {
   "cell_type": "code",
   "execution_count": 199,
   "metadata": {
    "colab": {},
    "colab_type": "code",
    "id": "JPGQsaiVokCI",
    "outputId": "074f4aa8-d004-4b76-ccd6-73e230e717f9"
   },
   "outputs": [
    {
     "name": "stdout",
     "output_type": "stream",
     "text": [
      "Epoch 100 loss: 11.475406646728516\n",
      "Epoch 200 loss: 11.475061416625977\n",
      "Epoch 300 loss: 11.474906921386719\n",
      "Epoch 400 loss: 11.474836349487305\n",
      "Epoch 500 loss: 11.47480583190918\n",
      "Epoch 600 loss: 11.474791526794434\n",
      "Epoch 700 loss: 11.474784851074219\n",
      "Epoch 800 loss: 11.474782943725586\n",
      "Epoch 900 loss: 11.474781036376953\n",
      "Epoch 1000 loss: 11.474780082702637\n"
     ]
    },
    {
     "data": {
      "image/png": "[encoded data removed]",
      "text/plain": [
       "<Figure size 432x288 with 1 Axes>"
      ]
     },
     "metadata": {
      "needs_background": "light"
     },
     "output_type": "display_data"
    }
   ],
   "source": [
    "# 0H model on cubic data\n",
    "model = Linear_0H(n_feature = 1, n_output = 1)\n",
    "y_pred = train(model, epochs=1000, x=x, y=y)\n",
    "plt.scatter(x, y, label = 'True data')\n",
    "plt.scatter(x, y_pred, label = 'Predicted data')\n",
    "plt.legend()\n",
    "plt.show()"
   ]
  },
  {
   "cell_type": "code",
   "execution_count": 200,
   "metadata": {
    "colab": {},
    "colab_type": "code",
    "id": "68JxHOz8okCL",
    "outputId": "92564c1f-b02f-4e2d-ec15-3177a63733ee"
   },
   "outputs": [
    {
     "name": "stdout",
     "output_type": "stream",
     "text": [
      "Epoch 100 loss: 11.06525993347168\n",
      "Epoch 200 loss: 10.081028938293457\n",
      "Epoch 300 loss: 9.146366119384766\n",
      "Epoch 400 loss: 8.296001434326172\n",
      "Epoch 500 loss: 7.267083168029785\n",
      "Epoch 600 loss: 5.93903112411499\n",
      "Epoch 700 loss: 5.042837142944336\n",
      "Epoch 800 loss: 4.616409778594971\n",
      "Epoch 900 loss: 4.3060102462768555\n",
      "Epoch 1000 loss: 4.031954288482666\n"
     ]
    },
    {
     "data": {
      "image/png": "[encoded data removed]",
      "text/plain": [
       "<Figure size 432x288 with 1 Axes>"
      ]
     },
     "metadata": {
      "needs_background": "light"
     },
     "output_type": "display_data"
    }
   ],
   "source": [
    "# 1H model on cubic data\n",
    "model = Linear_1H(n_feature = 1, n_hidden = 5, n_output = 1)\n",
    "y_pred = train(model, epochs=1000, x=x, y=y)\n",
    "plt.scatter(x, y, label = 'True data')\n",
    "plt.scatter(x, y_pred, label = 'Predicted data')\n",
    "plt.legend()\n",
    "plt.show()"
   ]
  },
  {
   "cell_type": "code",
   "execution_count": 201,
   "metadata": {
    "colab": {},
    "colab_type": "code",
    "id": "zQCOjn_AokCP",
    "outputId": "822feb80-83b1-4a20-9fb4-776a69655cc5"
   },
   "outputs": [
    {
     "name": "stdout",
     "output_type": "stream",
     "text": [
      "Epoch 100 loss: 11.346467971801758\n",
      "Epoch 200 loss: 9.454874992370605\n",
      "Epoch 300 loss: 8.894959449768066\n",
      "Epoch 400 loss: 7.654540538787842\n",
      "Epoch 500 loss: 5.536271095275879\n",
      "Epoch 600 loss: 4.404497146606445\n",
      "Epoch 700 loss: 3.487776756286621\n",
      "Epoch 800 loss: 2.4551968574523926\n",
      "Epoch 900 loss: 1.8326144218444824\n",
      "Epoch 1000 loss: 1.3382710218429565\n"
     ]
    },
    {
     "data": {
      "image/png": "[encoded data removed]",
      "text/plain": [
       "<Figure size 432x288 with 1 Axes>"
      ]
     },
     "metadata": {
      "needs_background": "light"
     },
     "output_type": "display_data"
    }
   ],
   "source": [
    "# 2H model on cubic data\n",
    "model = Linear_2H(n_feature = 1, n_hidden = 5, n_output = 1)\n",
    "y_pred = train(model, epochs=1000, x=x, y=y)\n",
    "plt.scatter(x, y, label = 'True data')\n",
    "plt.scatter(x, y_pred, label = 'Predicted data')\n",
    "plt.legend()\n",
    "plt.show()"
   ]
  },
  {
   "cell_type": "code",
   "execution_count": null,
   "metadata": {},
   "outputs": [],
   "source": []
  }
 ],
 "metadata": {
  "colab": {
   "collapsed_sections": [],
   "name": "DS-GA-1008-HW_assignment_2_master.ipynb",
   "provenance": [],
   "version": "0.3.2"
  },
  "kernelspec": {
   "display_name": "Python 3",
   "language": "python",
   "name": "python3"
  },
  "language_info": {
   "codemirror_mode": {
    "name": "ipython",
    "version": 3
   },
   "file_extension": ".py",
   "mimetype": "text/x-python",
   "name": "python",
   "nbconvert_exporter": "python",
   "pygments_lexer": "ipython3",
   "version": "3.7.6"
  }
 },
 "nbformat": 4,
 "nbformat_minor": 1
}
