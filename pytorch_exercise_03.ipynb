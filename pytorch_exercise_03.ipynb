{
 "cells": [
  {
   "cell_type": "markdown",
   "metadata": {},
   "source": [
    "## 0. Setup"
   ]
  },
  {
   "cell_type": "code",
   "execution_count": 1,
   "metadata": {},
   "outputs": [],
   "source": [
    "# Import dependencies\n",
    "import torch\n",
    "import torch.nn as nn\n",
    "import torch.nn.functional as F\n",
    "import torch.optim as optim\n",
    "from torch.utils.data import DataLoader\n",
    "import PIL\n",
    "PIL.PILLOW_VERSION = PIL.__version__\n",
    "from torchvision import datasets, transforms\n",
    "import numpy as np\n",
    "import random"
   ]
  },
  {
   "cell_type": "code",
   "execution_count": 2,
   "metadata": {},
   "outputs": [],
   "source": [
    "# Set up your device \n",
    "cuda = torch.cuda.is_available()\n",
    "device = torch.device(\"cuda:0\" if cuda else \"cpu\")"
   ]
  },
  {
   "cell_type": "code",
   "execution_count": 3,
   "metadata": {},
   "outputs": [],
   "source": [
    "# Set up random seed to 1008. Do not change the random seed.\n",
    "# Yes, these are all necessary when you run experiments!\n",
    "seed = 1008\n",
    "random.seed(seed)\n",
    "np.random.seed(seed)\n",
    "torch.manual_seed(seed)\n",
    "if cuda:\n",
    "    torch.cuda.manual_seed(seed)\n",
    "    torch.cuda.manual_seed_all(seed)\n",
    "    torch.backends.cudnn.benchmark = False\n",
    "    torch.backends.cudnn.deterministic = True"
   ]
  },
  {
   "cell_type": "markdown",
   "metadata": {},
   "source": [
    "## 1. Data: MNIST\n",
    "#### Load the MNIST training and test dataset using $\\texttt{torch.utils.data.DataLoader}$ and $\\texttt{torchvision.datasets}$. \n",
    "\n",
    "Hint: You might find Alf's notebook useful: https://github.com/Atcold/pytorch-Deep-Learning/blob/master/06-convnet.ipynb, or see some of the PyTorch tutorials."
   ]
  },
  {
   "cell_type": "markdown",
   "metadata": {},
   "source": [
    "### 1.1. Load Training Set [4 pts]"
   ]
  },
  {
   "cell_type": "code",
   "execution_count": 4,
   "metadata": {},
   "outputs": [],
   "source": [
    "# Load the MNIST training set with batch size 128, apply data shuffling and normalization\n",
    "# train_loader = TODO\n",
    "\n",
    "train_loader = torch.utils.data.DataLoader(\n",
    "    datasets.MNIST('../data', train=True, download=True,\n",
    "                   transform=transforms.Compose([\n",
    "                       transforms.ToTensor(),\n",
    "                       transforms.Normalize((0.1307,), (0.3081,))\n",
    "                   ])),\n",
    "    batch_size=128, shuffle=True)"
   ]
  },
  {
   "cell_type": "markdown",
   "metadata": {},
   "source": [
    "### 1.1. Load Test Set [4 pts]"
   ]
  },
  {
   "cell_type": "code",
   "execution_count": 5,
   "metadata": {},
   "outputs": [],
   "source": [
    "# Load the MNIST test set with batch size 128, apply data shuffling and normalization\n",
    "# test_loader = TODO\n",
    "\n",
    "test_loader = torch.utils.data.DataLoader(\n",
    "    datasets.MNIST('../data', train=False, transform=transforms.Compose([\n",
    "                       transforms.ToTensor(),\n",
    "                       transforms.Normalize((0.1307,), (0.3081,))\n",
    "                   ])),\n",
    "    batch_size=128, shuffle=True)"
   ]
  },
  {
   "cell_type": "markdown",
   "metadata": {},
   "source": [
    "## 2. Models\n",
    "#### You are going to define two convolutional neural networks which are trained to classify MNIST digits"
   ]
  },
  {
   "cell_type": "markdown",
   "metadata": {},
   "source": [
    "### 2.1. CNN without Batch Norm [5 pts]"
   ]
  },
  {
   "cell_type": "code",
   "execution_count": 6,
   "metadata": {},
   "outputs": [],
   "source": [
    "# Fill in the values below that make this network valid for MNIST data\n",
    "\n",
    "conv1_in_ch = 1\n",
    "conv2_in_ch = 20\n",
    "fc1_in_features = 50*4*4\n",
    "fc2_in_features = 500\n",
    "n_classes = 10"
   ]
  },
  {
   "cell_type": "code",
   "execution_count": 7,
   "metadata": {},
   "outputs": [],
   "source": [
    "class NetWithoutBatchNorm(nn.Module):\n",
    "    def __init__(self):\n",
    "        super(NetWithoutBatchNorm, self).__init__()\n",
    "        self.conv1 = nn.Conv2d(in_channels=conv1_in_ch, out_channels=20, kernel_size=5, stride=1)\n",
    "        self.conv2 = nn.Conv2d(in_channels=conv2_in_ch, out_channels=50, kernel_size=5, stride=1)\n",
    "        self.fc1 = nn.Linear(in_features=fc1_in_features, out_features=500)\n",
    "        self.fc2 = nn.Linear(in_features=fc2_in_features, out_features=n_classes)\n",
    "\n",
    "    def forward(self, x):\n",
    "        x = F.relu(self.conv1(x))\n",
    "        x = F.max_pool2d(x, kernel_size=2, stride=2)\n",
    "        x = F.relu(self.conv2(x))\n",
    "        x = F.max_pool2d(x, kernel_size=2, stride=2)\n",
    "        x = x.view(-1, fc1_in_features) # reshaping\n",
    "        x = F.relu(self.fc1(x))\n",
    "        x = self.fc2(x)\n",
    "        # Return the log_softmax of x.\n",
    "        x = F.log_softmax(x, dim=1)\n",
    "        return x"
   ]
  },
  {
   "cell_type": "markdown",
   "metadata": {},
   "source": [
    "### 2.2. CNN with Batch Norm [5 pts]"
   ]
  },
  {
   "cell_type": "code",
   "execution_count": 8,
   "metadata": {},
   "outputs": [],
   "source": [
    "# Fill in the values below that make this network valid for MNIST data\n",
    "\n",
    "conv1_bn_size = 20\n",
    "conv2_bn_size = 50\n",
    "fc1_bn_size = 500"
   ]
  },
  {
   "cell_type": "code",
   "execution_count": 9,
   "metadata": {},
   "outputs": [],
   "source": [
    "# Define the CNN with architecture explained in Part 2.2\n",
    "class NetWithBatchNorm(nn.Module):\n",
    "    def __init__(self):\n",
    "        super(NetWithBatchNorm, self).__init__()\n",
    "        self.conv1 = nn.Conv2d(in_channels=conv1_in_ch, out_channels=20, kernel_size=5, stride=1)\n",
    "        self.conv1_bn = nn.BatchNorm2d(conv1_bn_size)\n",
    "        self.conv2 = nn.Conv2d(in_channels=conv2_in_ch, out_channels=50, kernel_size=5, stride=1)\n",
    "        self.conv2_bn = nn.BatchNorm2d(conv2_bn_size)\n",
    "        self.fc1 = nn.Linear(in_features=fc1_in_features, out_features=500)\n",
    "        self.fc1_bn = nn.BatchNorm1d(fc1_bn_size)\n",
    "        self.fc2 = nn.Linear(in_features=fc2_in_features, out_features=n_classes)\n",
    "\n",
    "    def forward(self, x):\n",
    "        x = F.relu(self.conv1_bn(self.conv1(x)))\n",
    "        x = F.max_pool2d(x, kernel_size=2, stride=2)\n",
    "        x = F.relu(self.conv2_bn(self.conv2(x)))\n",
    "        x = F.max_pool2d(x, kernel_size=2, stride=2)\n",
    "        x = x.view(-1, fc1_in_features)\n",
    "        x = F.relu(self.fc1_bn(self.fc1(x)))\n",
    "        x = self.fc2(x)\n",
    "        # Return the log_softmax of x.\n",
    "        x = F.log_softmax(x, dim=1)\n",
    "        return x"
   ]
  },
  {
   "cell_type": "markdown",
   "metadata": {},
   "source": [
    "## 3. Training & Evaluation"
   ]
  },
  {
   "cell_type": "markdown",
   "metadata": {},
   "source": [
    "### 3.1. Define training method [10 pts]"
   ]
  },
  {
   "cell_type": "code",
   "execution_count": 10,
   "metadata": {},
   "outputs": [],
   "source": [
    "def train(model, device, train_loader, optimizer, epoch, log_interval = 100):\n",
    "    # Set model to training mode\n",
    "    model.train()\n",
    "    # Loop through data points\n",
    "    for batch_idx, (data, target) in enumerate(train_loader):\n",
    "        #pass # remove once implemented\n",
    "    \n",
    "        # Send data and target to device\n",
    "        data, target = data.to(device), target.to(device)\n",
    "        \n",
    "        # Zero out the ortimizer\n",
    "        optimizer.zero_grad()\n",
    "        \n",
    "        # Pass data through model\n",
    "        output = model(data)\n",
    "        \n",
    "        # Compute the negative log likelihood loss\n",
    "        loss = F.nll_loss(output, target)\n",
    "        \n",
    "        # Backpropagate loss\n",
    "        loss.backward()\n",
    "        \n",
    "        # Make a step with the optimizer\n",
    "        optimizer.step()\n",
    "        \n",
    "        # Print loss (uncomment lines below once implemented)\n",
    "        if batch_idx % log_interval == 0:\n",
    "            print('Train Epoch: {} [{}/{} ({:.0f}%)]\\tLoss: {:.6f}'.format(\n",
    "                epoch, batch_idx * len(data), len(train_loader.dataset),\n",
    "                100. * batch_idx / len(train_loader), loss.item()))"
   ]
  },
  {
   "cell_type": "markdown",
   "metadata": {},
   "source": [
    "### 3.2. Define test method [10 pts]"
   ]
  },
  {
   "cell_type": "code",
   "execution_count": 11,
   "metadata": {},
   "outputs": [],
   "source": [
    "accuracy_list = []\n",
    "\n",
    "# Define test method\n",
    "def test(model, device, test_loader):\n",
    "    # Set model to evaluation mode\n",
    "    model.eval()\n",
    "    # Variable for the total loss \n",
    "    test_loss = 0\n",
    "    # Counter for the correct predictions\n",
    "    num_correct = 0\n",
    "    \n",
    "    # don't need autograd for eval\n",
    "    with torch.no_grad():\n",
    "        # Loop through data points\n",
    "        for data, target in test_loader:\n",
    "            # pass # remove once implemented\n",
    "        \n",
    "            # Send data to device\n",
    "            data, target = data.to(device), target.to(device)\n",
    "            \n",
    "            # Pass data through model\n",
    "            output = model(data)\n",
    "            \n",
    "            # Compute the negative log likelihood loss with reduction='sum' and add to total test_loss\n",
    "            test_loss += F.nll_loss(output, target, reduction='sum').item()\n",
    "            \n",
    "            # Get predictions from the model for each data point\n",
    "            pred = output.data.max(1, keepdim=True)[1]\n",
    "            \n",
    "            # Add number of correct predictions to total num_correct \n",
    "            num_correct += pred.eq(target.data.view_as(pred)).cpu().sum().item()\n",
    "    \n",
    "    # Compute the average test_loss\n",
    "    test_loss /= len(test_loader.dataset)\n",
    "    accuracy = 100. * num_correct / len(test_loader.dataset)\n",
    "    accuracy_list.append(accuracy)\n",
    "    \n",
    "    # Print loss (uncomment lines below once implemented)\n",
    "    print('\\nTest set: Average loss: {:.4f}, Accuracy: {}/{} ({:.0f}%)\\n'.format(\n",
    "        test_loss, num_correct, len(test_loader.dataset),\n",
    "        100. * num_correct / len(test_loader.dataset)))"
   ]
  },
  {
   "cell_type": "markdown",
   "metadata": {},
   "source": [
    "### 3.3 Train NetWithoutBatchNorm() [5 pts]"
   ]
  },
  {
   "cell_type": "code",
   "execution_count": 12,
   "metadata": {},
   "outputs": [
    {
     "name": "stdout",
     "output_type": "stream",
     "text": [
      "Train Epoch: 1 [0/60000 (0%)]\tLoss: 2.312853\n",
      "Train Epoch: 1 [12800/60000 (21%)]\tLoss: 0.508909\n",
      "Train Epoch: 1 [25600/60000 (43%)]\tLoss: 0.338842\n",
      "Train Epoch: 1 [38400/60000 (64%)]\tLoss: 0.321634\n",
      "Train Epoch: 1 [51200/60000 (85%)]\tLoss: 0.223016\n",
      "\n",
      "Test set: Average loss: 0.1599, Accuracy: 9521/10000 (95%)\n",
      "\n",
      "Train Epoch: 2 [0/60000 (0%)]\tLoss: 0.232539\n",
      "Train Epoch: 2 [12800/60000 (21%)]\tLoss: 0.103974\n",
      "Train Epoch: 2 [25600/60000 (43%)]\tLoss: 0.121136\n",
      "Train Epoch: 2 [38400/60000 (64%)]\tLoss: 0.177091\n",
      "Train Epoch: 2 [51200/60000 (85%)]\tLoss: 0.111958\n",
      "\n",
      "Test set: Average loss: 0.0939, Accuracy: 9726/10000 (97%)\n",
      "\n",
      "Train Epoch: 3 [0/60000 (0%)]\tLoss: 0.087348\n",
      "Train Epoch: 3 [12800/60000 (21%)]\tLoss: 0.054673\n",
      "Train Epoch: 3 [25600/60000 (43%)]\tLoss: 0.100732\n",
      "Train Epoch: 3 [38400/60000 (64%)]\tLoss: 0.060889\n",
      "Train Epoch: 3 [51200/60000 (85%)]\tLoss: 0.062613\n",
      "\n",
      "Test set: Average loss: 0.0809, Accuracy: 9751/10000 (98%)\n",
      "\n",
      "Train Epoch: 4 [0/60000 (0%)]\tLoss: 0.026950\n",
      "Train Epoch: 4 [12800/60000 (21%)]\tLoss: 0.055939\n",
      "Train Epoch: 4 [25600/60000 (43%)]\tLoss: 0.037634\n",
      "Train Epoch: 4 [38400/60000 (64%)]\tLoss: 0.040670\n",
      "Train Epoch: 4 [51200/60000 (85%)]\tLoss: 0.079217\n",
      "\n",
      "Test set: Average loss: 0.0627, Accuracy: 9793/10000 (98%)\n",
      "\n",
      "Train Epoch: 5 [0/60000 (0%)]\tLoss: 0.054088\n",
      "Train Epoch: 5 [12800/60000 (21%)]\tLoss: 0.068157\n",
      "Train Epoch: 5 [25600/60000 (43%)]\tLoss: 0.031380\n",
      "Train Epoch: 5 [38400/60000 (64%)]\tLoss: 0.044732\n",
      "Train Epoch: 5 [51200/60000 (85%)]\tLoss: 0.024455\n",
      "\n",
      "Test set: Average loss: 0.0580, Accuracy: 9820/10000 (98%)\n",
      "\n",
      "Train Epoch: 6 [0/60000 (0%)]\tLoss: 0.106947\n",
      "Train Epoch: 6 [12800/60000 (21%)]\tLoss: 0.065321\n",
      "Train Epoch: 6 [25600/60000 (43%)]\tLoss: 0.013179\n",
      "Train Epoch: 6 [38400/60000 (64%)]\tLoss: 0.094149\n",
      "Train Epoch: 6 [51200/60000 (85%)]\tLoss: 0.053104\n",
      "\n",
      "Test set: Average loss: 0.0474, Accuracy: 9838/10000 (98%)\n",
      "\n",
      "Train Epoch: 7 [0/60000 (0%)]\tLoss: 0.079613\n",
      "Train Epoch: 7 [12800/60000 (21%)]\tLoss: 0.076049\n",
      "Train Epoch: 7 [25600/60000 (43%)]\tLoss: 0.083403\n",
      "Train Epoch: 7 [38400/60000 (64%)]\tLoss: 0.074350\n",
      "Train Epoch: 7 [51200/60000 (85%)]\tLoss: 0.070622\n",
      "\n",
      "Test set: Average loss: 0.0419, Accuracy: 9869/10000 (99%)\n",
      "\n",
      "Train Epoch: 8 [0/60000 (0%)]\tLoss: 0.017516\n",
      "Train Epoch: 8 [12800/60000 (21%)]\tLoss: 0.017710\n",
      "Train Epoch: 8 [25600/60000 (43%)]\tLoss: 0.046118\n",
      "Train Epoch: 8 [38400/60000 (64%)]\tLoss: 0.035720\n",
      "Train Epoch: 8 [51200/60000 (85%)]\tLoss: 0.013389\n",
      "\n",
      "Test set: Average loss: 0.0500, Accuracy: 9837/10000 (98%)\n",
      "\n",
      "Train Epoch: 9 [0/60000 (0%)]\tLoss: 0.072149\n",
      "Train Epoch: 9 [12800/60000 (21%)]\tLoss: 0.049486\n",
      "Train Epoch: 9 [25600/60000 (43%)]\tLoss: 0.039395\n",
      "Train Epoch: 9 [38400/60000 (64%)]\tLoss: 0.010109\n",
      "Train Epoch: 9 [51200/60000 (85%)]\tLoss: 0.028863\n",
      "\n",
      "Test set: Average loss: 0.0349, Accuracy: 9885/10000 (99%)\n",
      "\n",
      "Train Epoch: 10 [0/60000 (0%)]\tLoss: 0.015166\n",
      "Train Epoch: 10 [12800/60000 (21%)]\tLoss: 0.026521\n",
      "Train Epoch: 10 [25600/60000 (43%)]\tLoss: 0.035232\n",
      "Train Epoch: 10 [38400/60000 (64%)]\tLoss: 0.017306\n",
      "Train Epoch: 10 [51200/60000 (85%)]\tLoss: 0.006362\n",
      "\n",
      "Test set: Average loss: 0.0338, Accuracy: 9896/10000 (99%)\n",
      "\n"
     ]
    }
   ],
   "source": [
    "# Deifne model and sent to device\n",
    "model = NetWithoutBatchNorm()\n",
    "model.to(device)\n",
    "\n",
    "# Optimizer: SGD with learning rate of 1e-2 and momentum of 0.5\n",
    "optimizer = optim.SGD(model.parameters(), lr = 0.01, momentum = 0.5)\n",
    "\n",
    "# Training loop with 10 epochs\n",
    "for epoch in range(1, 10 + 1):\n",
    "    # pass # remove once implemented\n",
    "\n",
    "    # Train model\n",
    "    train(model, device, train_loader, optimizer, epoch)\n",
    "\n",
    "    \n",
    "    # Test model\n",
    "    test(model, device, test_loader)"
   ]
  },
  {
   "cell_type": "markdown",
   "metadata": {},
   "source": [
    "### 3.4 Train NetWithBatchNorm() [5 pts]"
   ]
  },
  {
   "cell_type": "code",
   "execution_count": 13,
   "metadata": {},
   "outputs": [
    {
     "name": "stdout",
     "output_type": "stream",
     "text": [
      "Train Epoch: 1 [0/60000 (0%)]\tLoss: 2.384663\n",
      "Train Epoch: 1 [12800/60000 (21%)]\tLoss: 0.253188\n",
      "Train Epoch: 1 [25600/60000 (43%)]\tLoss: 0.179382\n",
      "Train Epoch: 1 [38400/60000 (64%)]\tLoss: 0.176117\n",
      "Train Epoch: 1 [51200/60000 (85%)]\tLoss: 0.101649\n",
      "\n",
      "Test set: Average loss: 0.0844, Accuracy: 9788/10000 (98%)\n",
      "\n",
      "Train Epoch: 2 [0/60000 (0%)]\tLoss: 0.062142\n",
      "Train Epoch: 2 [12800/60000 (21%)]\tLoss: 0.034514\n",
      "Train Epoch: 2 [25600/60000 (43%)]\tLoss: 0.070800\n",
      "Train Epoch: 2 [38400/60000 (64%)]\tLoss: 0.070866\n",
      "Train Epoch: 2 [51200/60000 (85%)]\tLoss: 0.083214\n",
      "\n",
      "Test set: Average loss: 0.0530, Accuracy: 9863/10000 (99%)\n",
      "\n",
      "Train Epoch: 3 [0/60000 (0%)]\tLoss: 0.040267\n",
      "Train Epoch: 3 [12800/60000 (21%)]\tLoss: 0.069403\n",
      "Train Epoch: 3 [25600/60000 (43%)]\tLoss: 0.073169\n",
      "Train Epoch: 3 [38400/60000 (64%)]\tLoss: 0.025606\n",
      "Train Epoch: 3 [51200/60000 (85%)]\tLoss: 0.047004\n",
      "\n",
      "Test set: Average loss: 0.0409, Accuracy: 9888/10000 (99%)\n",
      "\n",
      "Train Epoch: 4 [0/60000 (0%)]\tLoss: 0.079442\n",
      "Train Epoch: 4 [12800/60000 (21%)]\tLoss: 0.030543\n",
      "Train Epoch: 4 [25600/60000 (43%)]\tLoss: 0.032549\n",
      "Train Epoch: 4 [38400/60000 (64%)]\tLoss: 0.017885\n",
      "Train Epoch: 4 [51200/60000 (85%)]\tLoss: 0.043827\n",
      "\n",
      "Test set: Average loss: 0.0372, Accuracy: 9886/10000 (99%)\n",
      "\n",
      "Train Epoch: 5 [0/60000 (0%)]\tLoss: 0.012374\n",
      "Train Epoch: 5 [12800/60000 (21%)]\tLoss: 0.044036\n",
      "Train Epoch: 5 [25600/60000 (43%)]\tLoss: 0.039292\n",
      "Train Epoch: 5 [38400/60000 (64%)]\tLoss: 0.017183\n",
      "Train Epoch: 5 [51200/60000 (85%)]\tLoss: 0.059023\n",
      "\n",
      "Test set: Average loss: 0.0333, Accuracy: 9900/10000 (99%)\n",
      "\n",
      "Train Epoch: 6 [0/60000 (0%)]\tLoss: 0.033037\n",
      "Train Epoch: 6 [12800/60000 (21%)]\tLoss: 0.020591\n",
      "Train Epoch: 6 [25600/60000 (43%)]\tLoss: 0.027400\n",
      "Train Epoch: 6 [38400/60000 (64%)]\tLoss: 0.019270\n",
      "Train Epoch: 6 [51200/60000 (85%)]\tLoss: 0.017015\n",
      "\n",
      "Test set: Average loss: 0.0311, Accuracy: 9908/10000 (99%)\n",
      "\n",
      "Train Epoch: 7 [0/60000 (0%)]\tLoss: 0.009589\n",
      "Train Epoch: 7 [12800/60000 (21%)]\tLoss: 0.021663\n",
      "Train Epoch: 7 [25600/60000 (43%)]\tLoss: 0.009427\n",
      "Train Epoch: 7 [38400/60000 (64%)]\tLoss: 0.011566\n",
      "Train Epoch: 7 [51200/60000 (85%)]\tLoss: 0.065877\n",
      "\n",
      "Test set: Average loss: 0.0304, Accuracy: 9911/10000 (99%)\n",
      "\n",
      "Train Epoch: 8 [0/60000 (0%)]\tLoss: 0.046183\n",
      "Train Epoch: 8 [12800/60000 (21%)]\tLoss: 0.022365\n",
      "Train Epoch: 8 [25600/60000 (43%)]\tLoss: 0.026874\n",
      "Train Epoch: 8 [38400/60000 (64%)]\tLoss: 0.021424\n",
      "Train Epoch: 8 [51200/60000 (85%)]\tLoss: 0.039740\n",
      "\n",
      "Test set: Average loss: 0.0281, Accuracy: 9915/10000 (99%)\n",
      "\n",
      "Train Epoch: 9 [0/60000 (0%)]\tLoss: 0.004818\n",
      "Train Epoch: 9 [12800/60000 (21%)]\tLoss: 0.004854\n",
      "Train Epoch: 9 [25600/60000 (43%)]\tLoss: 0.013658\n",
      "Train Epoch: 9 [38400/60000 (64%)]\tLoss: 0.013360\n",
      "Train Epoch: 9 [51200/60000 (85%)]\tLoss: 0.005261\n",
      "\n",
      "Test set: Average loss: 0.0273, Accuracy: 9910/10000 (99%)\n",
      "\n",
      "Train Epoch: 10 [0/60000 (0%)]\tLoss: 0.024399\n",
      "Train Epoch: 10 [12800/60000 (21%)]\tLoss: 0.035259\n",
      "Train Epoch: 10 [25600/60000 (43%)]\tLoss: 0.026111\n",
      "Train Epoch: 10 [38400/60000 (64%)]\tLoss: 0.005656\n",
      "Train Epoch: 10 [51200/60000 (85%)]\tLoss: 0.033773\n",
      "\n",
      "Test set: Average loss: 0.0243, Accuracy: 9921/10000 (99%)\n",
      "\n"
     ]
    }
   ],
   "source": [
    "# Deifne model and sent to device\n",
    "model = NetWithBatchNorm()\n",
    "model.to(device)\n",
    "\n",
    "# Optimizer: SGD with learning rate of 1e-2 and momentum of 0.5\n",
    "optimizer = optim.SGD(model.parameters(), lr=0.01, momentum = 0.5)\n",
    "\n",
    "# Training loop with 10 epochs\n",
    "for epoch in range(1, 10 + 1):\n",
    "    # pass # remove once implemented\n",
    "    \n",
    "    # Train model\n",
    "    train(model, device, train_loader, optimizer, epoch)\n",
    "    \n",
    "    # Test model\n",
    "    test(model, device, test_loader)"
   ]
  },
  {
   "cell_type": "markdown",
   "metadata": {},
   "source": [
    "## 4. Empirically, which of the models achieves higher accuracy faster? [2 pts]"
   ]
  },
  {
   "cell_type": "markdown",
   "metadata": {},
   "source": [
    "Answer: The model using Batch Normalization achieves accuracy faster than the model without. "
   ]
  },
  {
   "cell_type": "code",
   "execution_count": null,
   "metadata": {},
   "outputs": [],
   "source": []
  },
  {
   "cell_type": "code",
   "execution_count": null,
   "metadata": {},
   "outputs": [],
   "source": []
  },
  {
   "cell_type": "code",
   "execution_count": null,
   "metadata": {},
   "outputs": [],
   "source": []
  }
 ],
 "metadata": {
  "kernelspec": {
   "display_name": "Python 3",
   "language": "python",
   "name": "python3"
  },
  "language_info": {
   "codemirror_mode": {
    "name": "ipython",
    "version": 3
   },
   "file_extension": ".py",
   "mimetype": "text/x-python",
   "name": "python",
   "nbconvert_exporter": "python",
   "pygments_lexer": "ipython3",
   "version": "3.6.4"
  }
 },
 "nbformat": 4,
 "nbformat_minor": 2
}
